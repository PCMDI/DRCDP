{
 "cells": [
  {
   "cell_type": "markdown",
   "id": "3f1a7b22-8294-4b5d-846e-5a40bd59fd42",
   "metadata": {},
   "source": [
    "# Pull CV entries files; strip out extraneous entries\n",
    "<div style=\"text-align: right\">\n",
    "<p>\n",
    "    <img src=\"https://pcmdi.github.io/assets/PCMDI/199x65px-PCMDI-Logo-Text-rectangle.png\"\n",
    "         width=\"91\"\n",
    "         height=\"30\"\n",
    "         class=\"fixed-height-image\"\n",
    "         style=\"margin-right: 20px\"\n",
    "         title=\"Program for Climate Model Diagnosis and Intercomparison\"\n",
    "         alt=\"Program for Climate Model Diagnosis and Intercomparison\"\n",
    "    >&nbsp;\n",
    "    <img src=\"https://pcmdi.github.io/assets/LLNL/212px-LLNLiconPMS286-WHITEBACKGROUND.png\"\n",
    "         width=\"30\"\n",
    "         height=\"30\"\n",
    "         class=\"fixed-height-image\"\n",
    "         style=\"margin-right: 20px\"\n",
    "         title=\"Lawrence Livermore National Laboratory\"\n",
    "         alt=\"Lawrence Livermore National Laboratory\"\n",
    "    >&nbsp;\n",
    "    <img src=\"https://pcmdi.github.io/assets/DOE/459x127px-DOE-Logo_Color_TextOnly.png\"\n",
    "         width=\"108\"\n",
    "         height=\"30\"\n",
    "         class=\"fixed-height-image\"\n",
    "         style=\"margin-right: 20px\"\n",
    "         title=\"United States Department of Energy\"\n",
    "         alt=\"United States Department of Energy\"\n",
    "    >\n",
    "</p>\n",
    "</div>"
   ]
  },
  {
   "cell_type": "markdown",
   "id": "a6bc0f03-26e7-4fbe-adc7-85a213e0eed7",
   "metadata": {},
   "source": [
    "**Summary**\n",
    "\n",
    "This file pulls a CMIP6Plus_CVs/CMOR3.9.0-era CV files, strips out\n",
    "extraneous entries and saves the files for local use\n",
    "\n",
    "**Authors**\n",
    "\n",
    "Paul J. Durack ([durack1](https://github.com/durack1); [PCMDI](https://pcmdi.llnl.gov/), [Lawrence Livermore National Laboratory](https://www.llnl.gov/))\n",
    "\n",
    "**Notes**\n",
    "\n",
    "PJD 15 Feb 2025 - initiated<br>\n",
    "PJD 15 Feb 2025 - first prototype functioning<br>\n",
    "TODO:\n",
    "\n",
    "**Links**"
   ]
  },
  {
   "cell_type": "markdown",
   "id": "f4c38f9e-a1ff-4c31-b9bb-77656678b3ac",
   "metadata": {},
   "source": [
    "### imports"
   ]
  },
  {
   "cell_type": "code",
   "execution_count": 1,
   "id": "1ee04ff8-d8ea-46dc-bbd2-6c4d33e180c4",
   "metadata": {},
   "outputs": [
    {
     "name": "stdout",
     "output_type": "stream",
     "text": [
      "CPU times: user 36.8 ms, sys: 14 ms, total: 50.8 ms\n",
      "Wall time: 60.1 ms\n"
     ]
    }
   ],
   "source": [
    "%%time\n",
    "import datetime\n",
    "import json\n",
    "import os\n",
    "import requests"
   ]
  },
  {
   "cell_type": "markdown",
   "id": "c95f906d-ed0f-48bd-9831-3007f6d389a7",
   "metadata": {},
   "source": [
    "### set table, coordinate, formula_terms and grids URLs and pull files"
   ]
  },
  {
   "cell_type": "code",
   "execution_count": 2,
   "id": "9c30b7a6-28ab-4c26-bedd-a99cd1cfe201",
   "metadata": {},
   "outputs": [
    {
     "name": "stdout",
     "output_type": "stream",
     "text": [
      "0 frequency\n",
      "1 grid_label\n",
      "2 license\n",
      "3 nominal_resolution\n",
      "4 realm\n",
      "5 source_type\n",
      "CPU times: user 41.7 ms, sys: 13.8 ms, total: 55.5 ms\n",
      "Wall time: 888 ms\n"
     ]
    }
   ],
   "source": [
    "%%time\n",
    "urls = {\n",
    "    \"frequency\": \"https://raw.githubusercontent.com/PCMDI/mip-cmor-tables/refs/heads/main/MIP_frequency.json\",\n",
    "    \"grid_label\": \"https://raw.githubusercontent.com/PCMDI/mip-cmor-tables/refs/heads/main/MIP_grid_label.json\",\n",
    "    \"license\": \"https://raw.githubusercontent.com/PCMDI/mip-cmor-tables/refs/heads/main/MIP_license.json\",\n",
    "    \"nominal_resolution\": \"https://raw.githubusercontent.com/PCMDI/mip-cmor-tables/refs/heads/main/MIP_nominal_resolution.json\",\n",
    "    \"realm\": \"https://raw.githubusercontent.com/PCMDI/mip-cmor-tables/refs/heads/main/MIP_realm.json\",\n",
    "    \"source_type\": \"https://raw.githubusercontent.com/PCMDI/obs4MIPs-cmor-tables/refs/heads/master/obs4MIPs_source_type.json\",\n",
    "}\n",
    "# create: institution_id, product, required_global_attributes, source_id, table_id, tracking_id\n",
    "\n",
    "# loop through urls\n",
    "keys = urls.keys()\n",
    "for count, key in enumerate(keys):\n",
    "    print(count, key)\n",
    "    url = urls[key]\n",
    "    try:\n",
    "        response = requests.get(url)\n",
    "        response.raise_for_status()  # Raise HTTPError for bad responses (4/5xx)\n",
    "        vars()[key] = json.loads(response.text)\n",
    "    except requests.exceptions.RequestException as e:\n",
    "        print(f\"Request failed: {e}\")\n",
    "    except json.JSONDecodeError as e:\n",
    "        print(f\"JSON decode failed: {e}\")\n",
    "    except Exception as e:\n",
    "        print(f\"Unexpected error occurred: {e}\")"
   ]
  },
  {
   "cell_type": "markdown",
   "id": "facd6113-bd56-470c-86f2-53188951e0d8",
   "metadata": {},
   "source": [
    "### process frequency"
   ]
  },
  {
   "cell_type": "code",
   "execution_count": 3,
   "id": "0f61fbc5-3297-46d6-836f-d0505b7180ba",
   "metadata": {},
   "outputs": [
    {
     "data": {
      "text/plain": [
       "{'frequency': {'day': 'daily mean samples'}}"
      ]
     },
     "execution_count": 3,
     "metadata": {},
     "output_type": "execute_result"
    }
   ],
   "source": [
    "frequency.pop(\"version_metadata\")\n",
    "keyList = list(frequency[\"frequency\"].keys())\n",
    "keepKey = [\"day\"]\n",
    "for count, key in enumerate(keyList):\n",
    "    if key not in keepKey:\n",
    "        frequency[\"frequency\"].pop(key)\n",
    "frequency"
   ]
  },
  {
   "cell_type": "markdown",
   "id": "e72bdfef-c2fe-47a5-af47-05b1e123e406",
   "metadata": {},
   "source": [
    "### process grid_label"
   ]
  },
  {
   "cell_type": "code",
   "execution_count": 4,
   "id": "b7e0bced-bc23-4ac0-99e8-cc266e7364f5",
   "metadata": {},
   "outputs": [
    {
     "data": {
      "text/plain": [
       "{'grid_label': {'gn': 'data reported on the analysis-native grid'}}"
      ]
     },
     "execution_count": 4,
     "metadata": {},
     "output_type": "execute_result"
    }
   ],
   "source": [
    "grid_label.pop(\"version_metadata\")\n",
    "keyList = list(grid_label[\"grid_label\"].keys())\n",
    "keepKey = [\"gn\"]\n",
    "for count, key in enumerate(keyList):\n",
    "    if key not in keepKey:\n",
    "        grid_label[\"grid_label\"].pop(key)\n",
    "grid_label[\"grid_label\"][\"gn\"] = grid_label[\"grid_label\"][\"gn\"].replace(\"a model's \", \"the analysis-\")\n",
    "grid_label"
   ]
  },
  {
   "cell_type": "markdown",
   "id": "be344080-c193-4d79-a43e-b99dc78deed9",
   "metadata": {},
   "source": [
    "### create institution_id"
   ]
  },
  {
   "cell_type": "code",
   "execution_count": 5,
   "id": "897d11cc-426c-4533-a59d-23d2f7ef9146",
   "metadata": {},
   "outputs": [
    {
     "data": {
      "text/plain": [
       "{'institution_id': {'UCM-SNRI': {'name': 'Sierra Nevada Research Institute, University of California, Merced, 5200 N. Lake Road, Merced, CA 95343, USA',\n",
       "   'ror': '00d9ah105',\n",
       "   'url': 'https://www.climatologylab.org'},\n",
       "  'UCSD-SIO': {'name': 'Scripps Institution of Oceanography, University of California, San Diego, 9500 Gilman Drive, La Jolla, CA 92093, USA',\n",
       "   'ror': '04v7hvq31',\n",
       "   'url': 'https://scripps.ucsd.edu'},\n",
       "  'TTU': {'name': 'Texas Tech University, 2520 Broadway Avenue, Lubbock, TX 79409, USA',\n",
       "   'ror': '0405mnx93',\n",
       "   'url': 'https://www.ttu.edu/'}}}"
      ]
     },
     "execution_count": 5,
     "metadata": {},
     "output_type": "execute_result"
    }
   ],
   "source": [
    "institution_id = {}\n",
    "institution_id[\"institution_id\"] = {}\n",
    "institution_id[\"institution_id\"][\"UCM-SNRI\"] = {}\n",
    "institution_id[\"institution_id\"][\"UCM-SNRI\"][\"name\"] = \"Sierra Nevada Research Institute, University of California, Merced, 5200 N. Lake Road, Merced, CA 95343, USA\"\n",
    "institution_id[\"institution_id\"][\"UCM-SNRI\"][\"ror\"] = \"00d9ah105\"\n",
    "institution_id[\"institution_id\"][\"UCM-SNRI\"][\"url\"] = \"https://www.climatologylab.org\"\n",
    "institution_id[\"institution_id\"][\"UCSD-SIO\"] = {}\n",
    "institution_id[\"institution_id\"][\"UCSD-SIO\"][\"name\"] = \"Scripps Institution of Oceanography, University of California, San Diego, 9500 Gilman Drive, La Jolla, CA 92093, USA\"\n",
    "institution_id[\"institution_id\"][\"UCSD-SIO\"][\"ror\"] = \"04v7hvq31\"\n",
    "institution_id[\"institution_id\"][\"UCSD-SIO\"][\"url\"] = \"https://scripps.ucsd.edu\"\n",
    "institution_id[\"institution_id\"][\"TTU\"] = {}\n",
    "institution_id[\"institution_id\"][\"TTU\"][\"name\"] = \"Texas Tech University, 2520 Broadway Avenue, Lubbock, TX 79409, USA\"\n",
    "institution_id[\"institution_id\"][\"TTU\"][\"ror\"] = \"0405mnx93\"\n",
    "institution_id[\"institution_id\"][\"TTU\"][\"url\"] = \"https://www.ttu.edu/\"\n",
    "institution_id"
   ]
  },
  {
   "cell_type": "markdown",
   "id": "18a245fc-07d2-4068-9e48-23d811882345",
   "metadata": {},
   "source": [
    "### process license"
   ]
  },
  {
   "cell_type": "code",
   "execution_count": 6,
   "id": "5a77acbb-0699-417e-88fa-7997aad12716",
   "metadata": {},
   "outputs": [
    {
     "data": {
      "text/plain": [
       "{'license': {'license': 'DRDCP data produced by <Your Institution; see DRDCP_institution_id.json> is licensed under a <Creative Commons; select and insert a license_id; see below> License (<insert the matching license_url; see below>). Consult https://pcmdi.llnl.gov/CMIP6/TermsOfUse for terms of use governing DRDCP output, including citation requirements and proper acknowledgment. The data producers and data providers make no warranty, either express or implied, including, but not limited to, warranties of merchantability and fitness for a particular purpose. All liabilities arising from the supply of the information (including any liability arising in negligence) are excluded to the fullest extent permitted by law.',\n",
       "  'license_options': {'CC BY 4.0': {'license_id': 'Creative Commons Attribution 4.0 International',\n",
       "    'license_url': 'https://creativecommons.org/licenses/by/4.0/'},\n",
       "   'CC0 1.0': {'license_id': 'Creative Commons CC0 1.0 Universal Public Domain Dedication',\n",
       "    'license_url': 'https://creativecommons.org/publicdomain/zero/1.0/'}}}}"
      ]
     },
     "execution_count": 6,
     "metadata": {},
     "output_type": "execute_result"
    }
   ],
   "source": [
    "license.pop(\"version_metadata\")\n",
    "license[\"license\"][\"license\"] = license[\"license\"][\"license\"].replace(\"CMIP model data\", \"DRDCP data\")\n",
    "license[\"license\"][\"license\"] = license[\"license\"][\"license\"].replace(\"CMIP_institution_id.\", \"DRDCP_institution_id.\")\n",
    "license[\"license\"][\"license\"] = license[\"license\"][\"license\"].replace(\" CMIP6 \", \" DRDCP \")\n",
    "license"
   ]
  },
  {
   "cell_type": "code",
   "execution_count": 7,
   "id": "22d49d63-d4b1-443b-b197-beb4d6eba655",
   "metadata": {},
   "outputs": [],
   "source": [
    "### process nominal_resolution"
   ]
  },
  {
   "cell_type": "code",
   "execution_count": 8,
   "id": "c4031183-caeb-4ee4-83db-c3a4ee34459b",
   "metadata": {},
   "outputs": [
    {
     "data": {
      "text/plain": [
       "{'nominal_resolution': {'0.5 km': 'Resolution of 0.5 km',\n",
       "  '10000 km': 'Resolution of 10000 km',\n",
       "  '1000 km': 'Resolution of 1000 km',\n",
       "  '100 km': 'Resolution of 100 km',\n",
       "  '10 km': 'Resolution of 10 km',\n",
       "  '1 km': 'Resolution of 1 km',\n",
       "  '1x1 degree': 'Resolution of 1x1 degree',\n",
       "  '2.5 km': 'Resolution of 2.5 km',\n",
       "  '2500 km': 'Resolution of 2500 km',\n",
       "  '250 km': 'Resolution of 250 km',\n",
       "  '25 km': 'Resolution of 25 km',\n",
       "  '5000 km': 'Resolution of 5000 km',\n",
       "  '500 km': 'Resolution of 500 km',\n",
       "  '50 km': 'Resolution of 50 km',\n",
       "  '5 km': 'Resolution of 5 km'}}"
      ]
     },
     "execution_count": 8,
     "metadata": {},
     "output_type": "execute_result"
    }
   ],
   "source": [
    "nominal_resolution.pop(\"version_metadata\")\n",
    "nominal_resolution"
   ]
  },
  {
   "cell_type": "markdown",
   "id": "b685e7cc-ac8b-4d39-bcaa-55ff2d247147",
   "metadata": {},
   "source": [
    "### create product"
   ]
  },
  {
   "cell_type": "code",
   "execution_count": 9,
   "id": "f406b6e3-c2ac-4fd9-986a-d7fbc8b16660",
   "metadata": {},
   "outputs": [
    {
     "data": {
      "text/plain": [
       "{'product': ['downscaled-dynamical', 'downscaled-statistical']}"
      ]
     },
     "execution_count": 9,
     "metadata": {},
     "output_type": "execute_result"
    }
   ],
   "source": [
    "product = {}\n",
    "product[\"product\"] = {}\n",
    "product[\"product\"] = [\"downscaled-dynamical\", \"downscaled-statistical\"]\n",
    "product"
   ]
  },
  {
   "cell_type": "markdown",
   "id": "816b2549-351b-41a1-9240-761cbcec5ef5",
   "metadata": {},
   "source": [
    "### process realm"
   ]
  },
  {
   "cell_type": "code",
   "execution_count": 10,
   "id": "231119ad-b71e-403e-b550-5d71a1f1b521",
   "metadata": {},
   "outputs": [
    {
     "data": {
      "text/plain": [
       "{'realm': {'atmos': 'Atmosphere', 'land': 'Land Surface and Subsurface'}}"
      ]
     },
     "execution_count": 10,
     "metadata": {},
     "output_type": "execute_result"
    }
   ],
   "source": [
    "realm.pop(\"version_metadata\")\n",
    "keyList = list(realm[\"realm\"].keys())\n",
    "keepKeys = [\"atmos\", \"land\"]\n",
    "for count, key in enumerate(keyList):\n",
    "    if key not in keepKeys:\n",
    "        realm[\"realm\"].pop(key)\n",
    "realm"
   ]
  },
  {
   "cell_type": "markdown",
   "id": "092d66d2-ee02-48bc-b076-7884c445ef99",
   "metadata": {},
   "source": [
    "### create region"
   ]
  },
  {
   "cell_type": "code",
   "execution_count": 11,
   "id": "e064169a-691c-429f-9bab-8c8aaedd5425",
   "metadata": {},
   "outputs": [
    {
     "data": {
      "text/plain": [
       "{'region': {'NAM': 'north_america'}}"
      ]
     },
     "execution_count": 11,
     "metadata": {},
     "output_type": "execute_result"
    }
   ],
   "source": [
    "region = {}\n",
    "region[\"region\"] = {}\n",
    "region[\"region\"][\"NAM\"] = \"north_america\"\n",
    "region"
   ]
  },
  {
   "cell_type": "markdown",
   "id": "de394a56-a3a3-4d6d-aadb-a88306de1875",
   "metadata": {},
   "source": [
    "### create required_global_attributes"
   ]
  },
  {
   "cell_type": "code",
   "execution_count": 12,
   "id": "aef1a997-5de5-4e79-8c54-4763a6509f83",
   "metadata": {},
   "outputs": [
    {
     "data": {
      "text/plain": [
       "{'required_global_attributes': ['Conventions',\n",
       "  'activity_id',\n",
       "  'calendar',\n",
       "  'contact',\n",
       "  'creation_date',\n",
       "  'data_specs_version',\n",
       "  'downscaling_institution_id',\n",
       "  'downscaling_source_id',\n",
       "  'driving_activity_id',\n",
       "  'driving_experiment_id',\n",
       "  'driving_mip_era',\n",
       "  'driving_source_id',\n",
       "  'driving_variant_label',\n",
       "  'frequency',\n",
       "  'grid',\n",
       "  'grid_label',\n",
       "  'license',\n",
       "  'nominal_resolution',\n",
       "  'product',\n",
       "  'realm',\n",
       "  'region',\n",
       "  'region_id',\n",
       "  'table_id',\n",
       "  'tracking_id',\n",
       "  'variable_id',\n",
       "  'variant_info',\n",
       "  'variant_label']}"
      ]
     },
     "execution_count": 12,
     "metadata": {},
     "output_type": "execute_result"
    }
   ],
   "source": [
    "required_global_attributes = {}\n",
    "required_global_attributes[\"required_global_attributes\"] = [\n",
    "    \"Conventions\",\n",
    "    \"activity_id\",\n",
    "    \"calendar\",\n",
    "    \"contact\",\n",
    "    \"creation_date\",\n",
    "    \"data_specs_version\",\n",
    "    \"downscaling_institution_id\",\n",
    "    \"downscaling_source_id\",\n",
    "    \"driving_activity_id\",\n",
    "    \"driving_experiment_id\",\n",
    "    \"driving_mip_era\",\n",
    "    \"driving_source_id\",\n",
    "    \"driving_variant_label\",\n",
    "    \"frequency\",\n",
    "    \"grid\",\n",
    "    \"grid_label\",\n",
    "    \"license\",\n",
    "    \"nominal_resolution\",\n",
    "    \"product\",\n",
    "    \"realm\",\n",
    "    \"region\",\n",
    "    \"region_id\",\n",
    "    \"table_id\",\n",
    "    \"tracking_id\",\n",
    "    \"variable_id\",\n",
    "    \"variant_info\",\n",
    "    \"variant_label\",\n",
    "]\n",
    "required_global_attributes"
   ]
  },
  {
   "cell_type": "markdown",
   "id": "9d881409-b00a-41e2-8b7b-00963a6163ee",
   "metadata": {},
   "source": [
    "### create source_id"
   ]
  },
  {
   "cell_type": "code",
   "execution_count": 13,
   "id": "3252edfb-ebe0-42c4-b27d-c9bc3cbced1f",
   "metadata": {},
   "outputs": [
    {
     "data": {
      "text/plain": [
       "{'source_id': {'LOCA2-0': {'institution_id': 'UCSD-SIO',\n",
       "   'license': 'CC BY 4.0',\n",
       "   'region': 'NAM',\n",
       "   'source_name': 'LOCA',\n",
       "   'source_version_number': '2.0'},\n",
       "  'LOCA2-1': {'downscaling_institution_id': 'UCSD-SIO',\n",
       "   'downscaling_source_id': 'UCSD-SIO',\n",
       "   'driving_activity_id': 'CMIP',\n",
       "   'driving_experiment_id': 'historical',\n",
       "   'driving_mip_era': 'CMIP6',\n",
       "   'driving_source_id': 'ACCESS-CM2',\n",
       "   'driving_variant_label': 'r1i1p1f1',\n",
       "   'grid': '5 x 5 km latitude x longitude',\n",
       "   'grid_label': 'gn',\n",
       "   'nominal_resolution': '5 km',\n",
       "   'product': 'downscaled-statistical',\n",
       "   'region_id': 'NAM',\n",
       "   'source': 'placeholder',\n",
       "   'institution_id': 'UCSD-SIO',\n",
       "   'license': 'CC BY 4.0',\n",
       "   'region': 'NAM',\n",
       "   'source_name': 'LOCA',\n",
       "   'source_version_number': '2.1'},\n",
       "  'MACA3-0': {'institution_id': 'UCM-SNRI',\n",
       "   'license': 'CC0 1.0',\n",
       "   'region': 'NAM',\n",
       "   'source_name': 'MACA',\n",
       "   'source_version_number': '3.0'},\n",
       "  'STAR-ESDM1-0': {'institution_id': 'TTU',\n",
       "   'license': 'CC BY 4.0',\n",
       "   'region': 'NAM',\n",
       "   'source_name': 'STAR-ESDM',\n",
       "   'source_version_number': '1.0'}}}"
      ]
     },
     "execution_count": 13,
     "metadata": {},
     "output_type": "execute_result"
    }
   ],
   "source": [
    "source_id = {}\n",
    "source_id[\"source_id\"] = {}\n",
    "source_id[\"source_id\"][\"LOCA2-0\"] = {}\n",
    "source_id[\"source_id\"][\"LOCA2-0\"][\"institution_id\"] = \"UCSD-SIO\"\n",
    "source_id[\"source_id\"][\"LOCA2-0\"][\"license\"] = \"CC BY 4.0\"\n",
    "source_id[\"source_id\"][\"LOCA2-0\"][\"region\"] = \"NAM\"\n",
    "source_id[\"source_id\"][\"LOCA2-0\"][\"source_name\"] = \"LOCA\"\n",
    "source_id[\"source_id\"][\"LOCA2-0\"][\"source_version_number\"] = \"2.0\"\n",
    "source_id[\"source_id\"][\"LOCA2-1\"] = {}\n",
    "\n",
    "\n",
    "source_id[\"source_id\"][\"LOCA2-1\"][\"downscaling_institution_id\"] = \"UCSD-SIO\"  # fix\n",
    "source_id[\"source_id\"][\"LOCA2-1\"][\"downscaling_source_id\"] = \"LOCA2-1\"\n",
    "source_id[\"source_id\"][\"LOCA2-1\"][\"driving_activity_id\"] = \"CMIP\"  # if more than one move to user_input.json\n",
    "source_id[\"source_id\"][\"LOCA2-1\"][\"driving_experiment_id\"] = \"historical\"  # if more than one move to user_input.json\n",
    "source_id[\"source_id\"][\"LOCA2-1\"][\"driving_mip_era\"] = \"CMIP6\"  # if more than one move to user_input.json\n",
    "source_id[\"source_id\"][\"LOCA2-1\"][\"driving_source_id\"] = \"ACCESS-CM2\"  # if more than one move to user_input.json\n",
    "source_id[\"source_id\"][\"LOCA2-1\"][\"driving_variant_label\"] = \"r1i1p1f1\"  # if more than one move to user_input.json\n",
    "source_id[\"source_id\"][\"LOCA2-1\"][\"grid\"] = \"5 x 5 km latitude x longitude\"\n",
    "source_id[\"source_id\"][\"LOCA2-1\"][\"grid_label\"] = \"gn\"\n",
    "source_id[\"source_id\"][\"LOCA2-1\"][\"nominal_resolution\"] = \"5 km\"\n",
    "source_id[\"source_id\"][\"LOCA2-1\"][\"product\"] = \"downscaled-statistical\"\n",
    "source_id[\"source_id\"][\"LOCA2-1\"][\"region_id\"] = \"NAM\"\n",
    "source_id[\"source_id\"][\"LOCA2-1\"][\"source\"] = \"placeholder\"  # fix\n",
    "\n",
    "\n",
    "\n",
    "source_id[\"source_id\"][\"LOCA2-1\"][\"institution_id\"] = \"UCSD-SIO\"\n",
    "source_id[\"source_id\"][\"LOCA2-1\"][\"license\"] = \"CC BY 4.0\"\n",
    "source_id[\"source_id\"][\"LOCA2-1\"][\"region\"] = \"NAM\"\n",
    "source_id[\"source_id\"][\"LOCA2-1\"][\"source_name\"] = \"LOCA\"\n",
    "source_id[\"source_id\"][\"LOCA2-1\"][\"source_version_number\"] = \"2.1\"\n",
    "source_id[\"source_id\"][\"MACA3-0\"] = {}\n",
    "source_id[\"source_id\"][\"MACA3-0\"][\"institution_id\"] = \"UCM-SNRI\"\n",
    "source_id[\"source_id\"][\"MACA3-0\"][\"license\"] = \"CC0 1.0\"\n",
    "source_id[\"source_id\"][\"MACA3-0\"][\"region\"] = \"NAM\"\n",
    "source_id[\"source_id\"][\"MACA3-0\"][\"source_name\"] = \"MACA\"\n",
    "source_id[\"source_id\"][\"MACA3-0\"][\"source_version_number\"] = \"3.0\"\n",
    "source_id[\"source_id\"][\"STAR-ESDM1-0\"] = {}\n",
    "source_id[\"source_id\"][\"STAR-ESDM1-0\"][\"institution_id\"] = \"TTU\"\n",
    "source_id[\"source_id\"][\"STAR-ESDM1-0\"][\"license\"] = \"CC BY 4.0\"\n",
    "source_id[\"source_id\"][\"STAR-ESDM1-0\"][\"region\"] = \"NAM\"\n",
    "source_id[\"source_id\"][\"STAR-ESDM1-0\"][\"source_name\"] = \"STAR-ESDM\"\n",
    "source_id[\"source_id\"][\"STAR-ESDM1-0\"][\"source_version_number\"] = \"1.0\"\n",
    "source_id"
   ]
  },
  {
   "cell_type": "markdown",
   "id": "c039c9c2-952c-4453-a724-44ffcfc2eac0",
   "metadata": {},
   "source": [
    "### create table_id"
   ]
  },
  {
   "cell_type": "code",
   "execution_count": 14,
   "id": "521c4d74-2bd0-403a-a0ff-a6fba23317c4",
   "metadata": {},
   "outputs": [
    {
     "data": {
      "text/plain": [
       "{'table_id': ['APday']}"
      ]
     },
     "execution_count": 14,
     "metadata": {},
     "output_type": "execute_result"
    }
   ],
   "source": [
    "table_id = {}\n",
    "table_id[\"table_id\"] = [\"DRCDP_APday\"]\n",
    "\n",
    "\n",
    "table_id[\"table_id\"] = [\"APday\"]  # fix\n",
    "\n",
    "\n",
    "table_id"
   ]
  },
  {
   "cell_type": "markdown",
   "id": "b53902bf-a9c0-49a7-9251-236de870e855",
   "metadata": {},
   "source": [
    "### create tracking_id"
   ]
  },
  {
   "cell_type": "code",
   "execution_count": 15,
   "id": "2d08fa88-60ec-410e-b613-9379cb9e492e",
   "metadata": {},
   "outputs": [
    {
     "data": {
      "text/plain": [
       "{'tracking_id': ['hdl:21.14100/.*']}"
      ]
     },
     "execution_count": 15,
     "metadata": {},
     "output_type": "execute_result"
    }
   ],
   "source": [
    "tracking_id = {}\n",
    "tracking_id[\"tracking_id\"] = [\"hdl:21.14100/.*\"]\n",
    "tracking_id"
   ]
  },
  {
   "cell_type": "markdown",
   "id": "c490eaff-cef4-4d60-91d4-3e2eaf25fca3",
   "metadata": {},
   "source": [
    "### write all files out to repo root dir"
   ]
  },
  {
   "cell_type": "code",
   "execution_count": 16,
   "id": "7b260d38-8910-4f81-a728-e4bdd4fee48c",
   "metadata": {},
   "outputs": [
    {
     "name": "stdout",
     "output_type": "stream",
     "text": [
      "0 frequency\n",
      "1 grid_label\n",
      "2 institution_id\n",
      "3 license\n",
      "4 nominal_resolution\n",
      "5 product\n",
      "6 realm\n",
      "7 region\n",
      "8 required_global_attributes\n",
      "9 source_id\n",
      "10 table_id\n",
      "11 tracking_id\n"
     ]
    }
   ],
   "source": [
    "files = [\"frequency\", \"grid_label\", \"institution_id\", \"license\", \"nominal_resolution\", \"product\", \"realm\", \"region\", \"required_global_attributes\", \"source_id\", \"table_id\", \"tracking_id\"]\n",
    "for count, name in enumerate(files):\n",
    "    print(count, name)\n",
    "    dic = eval(name)\n",
    "    # write file\n",
    "    outFile = \"\".join([\"../DRCDP_\", name, \".json\"])\n",
    "    with open(outFile, \"w\") as f:\n",
    "        json.dump(\n",
    "            dic, f, ensure_ascii=True, sort_keys=True, indent=4, separators=(\",\", \":\")\n",
    "        )"
   ]
  },
  {
   "cell_type": "markdown",
   "id": "c9eaf433-3247-48fd-8b4f-79fb2edabe32",
   "metadata": {},
   "source": [
    "### create composite DRCDP_CV.json for CMOR"
   ]
  },
  {
   "cell_type": "code",
   "execution_count": 17,
   "id": "9b07bd0c-1f02-4b55-b5c9-924d69cfd232",
   "metadata": {},
   "outputs": [],
   "source": [
    "CV = {}\n",
    "CV[\"CV\"] = {}\n",
    "CV[\"CV\"][\"activity_id\"] = \"DRCDP\"\n",
    "CV[\"CV\"][\"frequency\"] = frequency[\"frequency\"]\n",
    "CV[\"CV\"][\"grid_label\"] = grid_label[\"grid_label\"]\n",
    "CV[\"CV\"][\"institution_id\"] = institution_id[\"institution_id\"]\n",
    "CV[\"CV\"][\"license\"] = license[\"license\"]\n",
    "CV[\"CV\"][\"nominal_resolution\"] = nominal_resolution[\"nominal_resolution\"]\n",
    "CV[\"CV\"][\"product\"] = product[\"product\"]\n",
    "CV[\"CV\"][\"realm\"] = realm[\"realm\"]\n",
    "CV[\"CV\"][\"region\"] = region[\"region\"]\n",
    "CV[\"CV\"][\"required_global_attributes\"] = required_global_attributes[\"required_global_attributes\"]\n",
    "CV[\"CV\"][\"source_id\"] = source_id[\"source_id\"]\n",
    "CV[\"CV\"][\"table_id\"] = table_id[\"table_id\"]\n",
    "CV[\"CV\"][\"tracking_id\"] = tracking_id[\"tracking_id\"]\n",
    "#CV\n",
    "# write file\n",
    "outFile = \"\".join([\"../Tables/DRCDP_CV.json\"])\n",
    "with open(outFile, \"w\") as f:\n",
    "    json.dump(\n",
    "        CV, f, ensure_ascii=True, sort_keys=True, indent=4, separators=(\",\", \":\")\n",
    "    )"
   ]
  },
  {
   "cell_type": "code",
   "execution_count": null,
   "id": "011f199a-3e03-48c8-b578-22b208879fc7",
   "metadata": {},
   "outputs": [],
   "source": []
  }
 ],
 "metadata": {
  "kernelspec": {
   "display_name": "Python 3 (ipykernel)",
   "language": "python",
   "name": "python3"
  },
  "language_info": {
   "codemirror_mode": {
    "name": "ipython",
    "version": 3
   },
   "file_extension": ".py",
   "mimetype": "text/x-python",
   "name": "python",
   "nbconvert_exporter": "python",
   "pygments_lexer": "ipython3",
   "version": "3.13.2"
  }
 },
 "nbformat": 4,
 "nbformat_minor": 5
}
